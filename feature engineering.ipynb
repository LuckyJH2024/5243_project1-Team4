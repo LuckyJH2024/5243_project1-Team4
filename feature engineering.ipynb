{
 "cells": [
  {
   "cell_type": "code",
   "execution_count": 1,
   "metadata": {},
   "outputs": [],
   "source": [
    "# Re-load the dataset after execution state reset\n",
    "import pandas as pd\n",
    "\n",
    "file_path = \"cleaned_selected_features.csv\"\n",
    "df = pd.read_csv(file_path)\n",
    "\n",
    "# Create new ratio-based features\n",
    "df['PctHousOwnOcc_PctHousLess3BR'] = df['PctHousOwnOcc'] / (df['PctHousLess3BR'] + 1e-5)  # Avoid division by zero\n",
    "df['PersPerFam_householdsize'] = df['PersPerFam'] / (df['householdsize'] + 1e-5)\n",
    "df['NumUnderPov_householdsize'] = df['NumUnderPov'] / (df['householdsize'] + 1e-5)\n",
    "df['NumIlleg_PctWorkMomYoungKids'] = df['NumIlleg'] / (df['PctWorkMomYoungKids'] + 1e-5)\n",
    "\n",
    "# Create interaction features\n",
    "df['MedRentPctHousInc_PctHousOwnOcc'] = df['MedRentPctHousInc'] * df['PctHousOwnOcc']\n",
    "df['PersPerRentOccHous_PctWorkMomYoungKids'] = df['PersPerRentOccHous'] * df['PctWorkMomYoungKids']\n",
    "\n",
    "# Display the updated dataset with new features\n",
    "df.head()\n",
    "\n",
    "df.to_csv(\"cleaned_selected_features_engineered.csv\", index=False)\n"
   ]
  }
 ],
 "metadata": {
  "kernelspec": {
   "display_name": "base",
   "language": "python",
   "name": "python3"
  },
  "language_info": {
   "codemirror_mode": {
    "name": "ipython",
    "version": 3
   },
   "file_extension": ".py",
   "mimetype": "text/x-python",
   "name": "python",
   "nbconvert_exporter": "python",
   "pygments_lexer": "ipython3",
   "version": "3.11.5"
  }
 },
 "nbformat": 4,
 "nbformat_minor": 2
}
